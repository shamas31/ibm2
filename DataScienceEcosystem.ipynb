{
 "cells": [
  {
   "attachments": {},
   "cell_type": "markdown",
   "id": "1401d7ec",
   "metadata": {},
   "source": [
    "#Data Science Tools and EcosystemIn this notebook, Data Science Tools and Ecosystem are summarized.\n"
   ]
  },
  {
   "cell_type": "markdown",
   "id": "31e88ce6",
   "metadata": {},
   "source": [
    "#Data Science Tools and Ecosystem"
   ]
  },
  {
   "cell_type": "raw",
   "id": "b9cad158",
   "metadata": {},
   "source": [
    "Some of the popular languages that Data Scientists use are:\n",
    "1 python\n",
    "2 R\n",
    "3 SQL\n"
   ]
  },
  {
   "cell_type": "markdown",
   "id": "06e73347",
   "metadata": {},
   "source": [
    "Some of the commonly used libraries used by Data Scientists include:\n",
    "1 pandas\n",
    "2 matplotlib\n",
    "3 numpy\n",
    "4 pytorch\n"
   ]
  },
  {
   "cell_type": "markdown",
   "id": "dfa2b500",
   "metadata": {},
   "source": [
    "Data Science Tools\n",
    "RStudio.\n",
    "Apache Spark.\n",
    "TensorFlow.\n",
    "Apache Hadoop.\n"
   ]
  },
  {
   "cell_type": "markdown",
   "id": "32ad16fe",
   "metadata": {},
   "source": [
    "###Below are a few examples of evaluating arithmetic expressions in Python\n",
    "addition (+)\n",
    "subtraction(-)\n",
    "multiplication(*)\n",
    "division (/)\n"
   ]
  },
  {
   "cell_type": "code",
   "execution_count": 2,
   "id": "3b72ac49",
   "metadata": {},
   "outputs": [
    {
     "data": {
      "text/plain": [
       "17"
      ]
     },
     "execution_count": 2,
     "metadata": {},
     "output_type": "execute_result"
    }
   ],
   "source": [
    " # This a simple arithmetic expression to mutiply then add integers\n",
    "(3*4)+5\n"
   ]
  },
  {
   "cell_type": "code",
   "execution_count": 3,
   "id": "b62c267f",
   "metadata": {},
   "outputs": [
    {
     "data": {
      "text/plain": [
       "3.3333333333333335"
      ]
     },
     "execution_count": 3,
     "metadata": {},
     "output_type": "execute_result"
    }
   ],
   "source": [
    "# This will convert 200 minutes to hours by diving by 60.\n",
    "\n",
    "200/60"
   ]
  },
  {
   "cell_type": "markdown",
   "id": "08b699bf",
   "metadata": {},
   "source": [
    "objectives:\n",
    "libraries used in data science .\n",
    "language used in data science "
   ]
  },
  {
   "cell_type": "markdown",
   "id": "d3a53c96",
   "metadata": {},
   "source": [
    "##author\n",
    "peerzada shamas ul wara"
   ]
  }
 ],
 "metadata": {
  "kernelspec": {
   "display_name": "Python 3 (ipykernel)",
   "language": "python",
   "name": "python3"
  },
  "language_info": {
   "codemirror_mode": {
    "name": "ipython",
    "version": 3
   },
   "file_extension": ".py",
   "mimetype": "text/x-python",
   "name": "python",
   "nbconvert_exporter": "python",
   "pygments_lexer": "ipython3",
   "version": "3.10.9"
  }
 },
 "nbformat": 4,
 "nbformat_minor": 5
}
